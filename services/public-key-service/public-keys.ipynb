{
 "cells": [
  {
   "cell_type": "code",
   "execution_count": 1,
   "id": "2ccd4a9d",
   "metadata": {
    "pycharm": {
     "name": "#%%\n"
    }
   },
   "outputs": [],
   "source": [
    "import requests"
   ]
  },
  {
   "cell_type": "code",
   "execution_count": 2,
   "id": "dfa3fe9c",
   "metadata": {
    "pycharm": {
     "name": "#%%\n"
    },
    "tags": [
     "parameters"
    ]
   },
   "outputs": [],
   "source": [
    "host = 'localhost'"
   ]
  },
  {
   "cell_type": "code",
   "execution_count": 3,
   "id": "8dda75b6",
   "metadata": {
    "pycharm": {
     "name": "#%%\n"
    }
   },
   "outputs": [],
   "source": [
    "assert requests.get('http://%s:3300/public-key-service/api/v1/health'%host).status_code == 200"
   ]
  },
  {
   "cell_type": "code",
   "execution_count": 4,
   "id": "65983833",
   "metadata": {
    "pycharm": {
     "name": "#%%\n"
    }
   },
   "outputs": [
    {
     "name": "stdout",
     "output_type": "stream",
     "text": [
      "200\n"
     ]
    }
   ],
   "source": [
    "resp = requests.get('http://%s:3300/public-key-service/api/v1/public-keys'%host)\n",
    "print(resp.status_code)\n",
    "assert resp.status_code == 200 \n",
    "assert resp.content"
   ]
  },
  {
   "cell_type": "code",
   "execution_count": 5,
   "id": "65009b56",
   "metadata": {
    "pycharm": {
     "name": "#%%\n"
    }
   },
   "outputs": [
    {
     "name": "stdout",
     "output_type": "stream",
     "text": [
      "200\n"
     ]
    }
   ],
   "source": [
    "import urllib.parse\n",
    "query = 'did:authorizedIssuer:23423#21'\n",
    "issuerId = urllib.parse.quote(query)\n",
    "resp = requests.get('http://%s:3300/public-key-service/api/v1/public-key/%s'%(host,issuerId))\n",
    "print(resp.status_code)\n",
    "assert resp.status_code == 200 \n",
    "assert resp.content"
   ]
  },
  {
   "cell_type": "code",
   "execution_count": 6,
   "id": "cb1da5cd",
   "metadata": {
    "pycharm": {
     "name": "#%%\n"
    }
   },
   "outputs": [
    {
     "name": "stdout",
     "output_type": "stream",
     "text": [
      "404\n"
     ]
    }
   ],
   "source": [
    "import urllib.parse\n",
    "query = 'invalidId'\n",
    "issuerId = urllib.parse.quote(query)\n",
    "resp = requests.get('http://%s:3300/public-key-service/api/v1/public-key/%s'%(host,issuerId))\n",
    "print(resp.status_code)\n",
    "assert resp.status_code == 404 \n",
    "assert resp.content"
   ]
  },
  {
   "cell_type": "code",
   "execution_count": null,
   "id": "244f580c-a8b4-45f5-82a9-b3688a60a24f",
   "metadata": {
    "pycharm": {
     "name": "#%%\n"
    }
   },
   "outputs": [],
   "source": []
  }
 ],
 "metadata": {
  "celltoolbar": "Tags",
  "kernelspec": {
   "display_name": "Python 3 (ipykernel)",
   "language": "python",
   "name": "python3"
  },
  "language_info": {
   "codemirror_mode": {
    "name": "ipython",
    "version": 3
   },
   "file_extension": ".py",
   "mimetype": "text/x-python",
   "name": "python",
   "nbconvert_exporter": "python",
   "pygments_lexer": "ipython3",
   "version": "3.9.13"
  }
 },
 "nbformat": 4,
 "nbformat_minor": 5
}