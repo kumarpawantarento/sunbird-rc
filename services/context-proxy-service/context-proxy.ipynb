{
 "cells": [
  {
   "cell_type": "code",
   "execution_count": 6,
   "id": "2ccd4a9d",
   "metadata": {
    "pycharm": {
     "name": "#%%\n"
    }
   },
   "outputs": [],
   "source": [
    "import requests"
   ]
  },
  {
   "cell_type": "code",
   "execution_count": 7,
   "id": "dfa3fe9c",
   "metadata": {
    "pycharm": {
     "name": "#%%\n"
    },
    "tags": [
     "parameters"
    ]
   },
   "outputs": [],
   "source": [
    "host = 'localhost'"
   ]
  },
  {
   "cell_type": "code",
   "execution_count": 8,
   "id": "8dda75b6",
   "metadata": {
    "pycharm": {
     "name": "#%%\n"
    }
   },
   "outputs": [],
   "source": [
    "assert requests.get('http://%s:4400/health'%host).status_code == 200"
   ]
  },
  {
   "cell_type": "code",
   "execution_count": 11,
   "id": "17a00838",
   "metadata": {
    "collapsed": false,
    "jupyter": {
     "outputs_hidden": false
    },
    "pycharm": {
     "name": "#%%\n"
    }
   },
   "outputs": [
    {
     "name": "stdout",
     "output_type": "stream",
     "text": [
      "200\n",
      "b'{\\n    \"@context\": [\\n    \"https://www.w3.org/2018/credentials/v1\",\\n    \"https://gist.githubusercontent.com/priyanka-TL/fad903c8c33916ac0c1429109743678e/raw/549de616e123a7cfe004b24996fc26291c53c2b8/v1_context.json\",\\t\\t\\t\\n    \"https://gist.githubusercontent.com/tejash-jl/f80b32c053c3bcb62aaaa80514375a88/raw/cb18fdd90777a2f924f1e503d236d0a51d55c5a3/proj_cer_context\"\\n ],\\n    \"type\": [\\n        \"VerifiableCredential\"\\n    ],   \\n    \"id\":\"did:sunbird:{{osid}}\",\\n    \"issuanceDate\": \"{{osCreatedAt}}\",\\n    \"credentialSubject\": {\\n        \"type\":\"{{certificateLabel}}\",\\n        \"recipientName\": \"{{recipient.name}}\",\\n        \"projectName\": \"{{projectName}}\",\\n        \"stateName\": \"{{stateName}}\"\\n     },\\n   \"issuer\":{\\t\\t\\t         \\n        \"id\":\"https://raw.githubusercontent.com/project-sunbird/sunbird-devops/release-4.8.0/kubernetes/helm_charts/sunbird-RC/registry/templates/READ.md#Issuer\",\\n         \"type\":[\\n            \"Issuer\"\\n         ],\\n         \"name\":\"{{issuer.name}}\",\\n         \"url\":\"{{issuer.url}}\",\\n         \"publicKey\":[\"{{issuer.kid}}\"]\\n  }\\n }'\n"
     ]
    }
   ],
   "source": [
    "resp = requests.get('http://%s:4400/proxy/tejash-jl/02d0df589abde35b00357fbf7b1c5aa7/raw/6db6b0933e3005afe4fac468e53dc8a8212194fd/pc'%host, headers={\"target\":\"https://gist.githubusercontent.com\"})\n",
    "print(resp.status_code)\n",
    "print(resp.content)\n",
    "assert resp.status_code == 200\n",
    "assert resp.content"
   ]
  },
  {
   "cell_type": "code",
   "execution_count": null,
   "id": "244f580c-a8b4-45f5-82a9-b3688a60a24f",
   "metadata": {
    "pycharm": {
     "name": "#%%\n"
    }
   },
   "outputs": [],
   "source": []
  }
 ],
 "metadata": {
  "celltoolbar": "Tags",
  "kernelspec": {
   "display_name": "Python 3 (ipykernel)",
   "language": "python",
   "name": "python3"
  },
  "language_info": {
   "codemirror_mode": {
    "name": "ipython",
    "version": 3
   },
   "file_extension": ".py",
   "mimetype": "text/x-python",
   "name": "python",
   "nbconvert_exporter": "python",
   "pygments_lexer": "ipython3",
   "version": "3.9.13"
  }
 },
 "nbformat": 4,
 "nbformat_minor": 5
}